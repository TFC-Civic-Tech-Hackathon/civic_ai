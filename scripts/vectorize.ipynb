{
 "cells": [
  {
   "cell_type": "code",
   "execution_count": null,
   "metadata": {},
   "outputs": [
    {
     "name": "stderr",
     "output_type": "stream",
     "text": [
      "d:\\Old Laptop\\Hackathon Dev\\Civic Hackathon\\civic_ai\\venv\\lib\\site-packages\\tqdm\\auto.py:21: TqdmWarning: IProgress not found. Please update jupyter and ipywidgets. See https://ipywidgets.readthedocs.io/en/stable/user_install.html\n",
      "  from .autonotebook import tqdm as notebook_tqdm\n"
     ]
    }
   ],
   "source": [
    "import configparser\n",
    "from sentence_transformers import SentenceTransformer\n",
    "import torch\n",
    "from PyPDF2 import PdfReader\n",
    "import requests\n",
    "from io import BytesIO\n",
    "from pinecone import Pinecone\n",
    "\n",
    "config = configparser.ConfigParser()\n",
    "config.read('configuration.properties')\n",
    "\n",
    "def pinecone_connection():\n",
    "    try:\n",
    "        pinecone_api_key = config['PINECONE']['pinecone_api_key']\n",
    "        index_name = config['PINECONE']['index']\n",
    "        return pinecone_api_key, index_name\n",
    "    except Exception as e:\n",
    "        print(\"Exception in pinecone_connection function: \",e)\n",
    "        return \"\", \"\""
   ]
  },
  {
   "cell_type": "code",
   "execution_count": 4,
   "metadata": {},
   "outputs": [],
   "source": [
    "def read_pdf_data(pdf_link):\n",
    "    try:\n",
    "        response = requests.get(pdf_link)\n",
    "        if response.status_code == 200:\n",
    "            pdf_bytes = BytesIO(response.content)\n",
    "\n",
    "            # Step 2: Read and extract text\n",
    "            reader = PdfReader(pdf_bytes)\n",
    "            text = \"\"\n",
    "            for page in reader.pages:\n",
    "                text += page.extract_text() + \"\\n\"\n",
    "        else:\n",
    "            print(\"Failed to download the PDF.\")\n",
    "            text = \"\"\n",
    "        return text\n",
    "    except Exception as e:\n",
    "        print(\"Exception in read_pdf_data function: \",e)\n",
    "        return \"\""
   ]
  },
  {
   "cell_type": "code",
   "execution_count": 5,
   "metadata": {},
   "outputs": [
    {
     "data": {
      "text/plain": [
       "'Billing Code: 3410-30-P\\nDEPARTMENT OF AGRICULTURE\\nFood and Nutrition Service\\nSummer Food Service Program; 2025 Reimbursement Rates\\nAGENCY:  Food and Nutrition Service, USDA.\\nACTION:  Notice.\\nSUMMARY:  This notice informs the public of the annual adjustments to the \\nreimbursement rates for meals served in the Summer Food Service Program. These \\nadjustments address changes in the Consumer Price Index, as required under the Richard \\nB. Russell National School Lunch Act. The 2025 reimbursement rates are presented as a \\ncombined set of rates to highlight simplified cost accounting procedures. The 2025 rates \\nare also presented individually, as separate operating and administrative rates of \\nreimbursement, to show the effect of the Consumer Price Index adjustment on each rate. \\nOn average, the 2025 rates adjustment represents a 3.6 percent increase in the rates from \\nlast year. \\nDATES:  This adjustment is applicable January 1, 2025.\\nFOR FURTHER INFORMATION CONTACT:  Penny Burke, Program Monitoring \\nand Operational Support Division, Child Nutrition Programs, Food and Nutrition Service, \\nUnited States Department of Agriculture, 1320 Braddock Place, Suite 401, Alexandria, \\nVirginia 22314.  Tel. (303) 844-0357\\nSUPPLEMENTARY INFORMATION: The Summer Food Service Program (SFSP) is \\nlisted in the Catalog of Federal Domestic Assistance under No. 10.559 and is subject to \\nthe provisions of Executive Order 12372, which requires intergovernmental consultation \\nwith State and local officials. (See 2 CFR part 415 and final rule-related notice published \\nat 48 FR 29114, June 24, 1983.)This document is scheduled to be published in the\\nFederal Register on 01/13/2025 and available online at\\nhttps://federalregister.gov/d/2025-00479 , and on https://govinfo.gov\\nIn accordance with the Paperwork Reduction Act of 1995, 44 U.S.C. 3501-3520, no new \\nrecordkeeping or reporting requirements have been included that are subject to approval \\nfrom the Office of Management and Budget.\\nThis notice is not a rule as defined by the Regulatory Flexibility Act, 5 U.S.C. 601-612, \\nand thus is exempt from the provisions of that Act. Additionally, this notice has been \\ndetermined to be exempt from formal review by the Office of Management and Budget \\nunder Executive Order 12866.\\nDefinitions\\nThe terms used in this notice have the meaning ascribed to them under 7 CFR part 225 of \\nthe SFSP regulations.\\nBackground\\nThis notice informs the public of the annual adjustments to the reimbursement rates for \\nmeals served in SFSP. In accordance with sections 12(f) and 13, 42 U.S.C. 1760(f) and \\n1761 of the Richard B. Russell National School Lunch Act (NSLA) and SFSP regulations \\nunder 7 CFR part 225, the USDA announces the adjustments in SFSP payments for meals \\nserved to participating children during calendar year 2025.\\nThe 2025 reimbursement rates are presented as a combined set of rates to highlight \\nsimplified cost accounting procedures. Reimbursement is based solely on a “meals times \\nrates” calculation, without comparison to actual or budgeted costs.\\nSponsors receive reimbursement that is determined by the number of reimbursable meals \\nserved, multiplied by the combined rates for food service operations and administration. \\nHowever, the combined rate is based on separate operating and administrative rates of \\nreimbursement, each of which is adjusted differently for inflation.\\nCalculation of Rates\\nThe combined rates are constructed from individually authorized operating and \\nadministrative reimbursements. Simplified procedures provide flexibility, enabling \\nsponsors to manage their reimbursements to pay for any allowable cost, regardless of the \\ncost category. Sponsors remain responsible, however, for ensuring proper administration \\nof the Program, while providing the best possible nutrition benefit to children.\\nThe operating and administrative rates are calculated separately. However, the \\ncalculations of adjustments for both cost categories are based on the same set of changes \\nin the Food Away from Home series of the Consumer Price Index for All Urban \\nConsumers, published by the Bureau of Labor Statistics of the United States Department \\nof Labor. They represent a 3.6 percent increase in this series for the 12-month period, \\nfrom November 2023 through November 2024 (from 360.383 in November 2023 to \\n373.530 in November 2024).\\nTable of 2025 Reimbursement Rates\\nPresentation of the 2025 maximum per meal rates for meals served to children in SFSP \\ncombines the results from the calculations of operational and administrative payments, \\nwhich are further explained in this notice. The total amount of payments to State agencies \\nfor disbursement to SFSP sponsors will be based upon these adjusted combined rates and \\nthe number of meals of each type served. These adjusted rates will be in effect from \\nJanuary 1, 2025, through December 31, 2025.\\nThese changes are reflected below.\\nAll States except Alaska and Hawaii – Rural or Self-prep Sites – Breakfast – 3 dollars and \\n8.75 cents (11 cent increase from the 2024 reimbursement rate), Lunch or Supper – 5 \\ndollars and 40.25 cents (19 cent increase), Snack – 1 dollar and 28 cents (4.50 cent \\nincrease); All Other Types of Sites – Breakfast – 3 dollars and 3 cents (10.75 cent \\nincrease), Lunch or Supper – 5 dollars and 31.50 cents (18.50 cent increase), Snack – 1 \\ndollar and 25 cents (4.50 cent increase).\\nAlaska – Rural or Self-prep Sites – Breakfast – 5 dollars and 0 cents (17.50 cent \\nincrease), Lunch or Supper – 8 dollars and 76 cents (31 cent increase), Snack – 2 dollar \\nand 7.50 cents (7.75 cent increase); All Other Types of Sites – Breakfast – 4 dollars and \\n90.75 cents (17.25 cent increase), Lunch or Supper – 8 dollars and 61.75 cents (30.50 \\ncent increase), Snack – 2 dollar and 2.75 cents (7.5 cent increase).  \\nGuam, Hawaii, Puerto Rico, and the U.S. Virgin Islands– Rural or Self-prep Sites – \\nBreakfast – 4 dollars and 1.25 cents (14.25 cent increase), Lunch or Supper – 7 dollars \\nand 2.50 cents (24.25 cent increase), Snack – 1 dollar and 66 cents (5.50 cent increase); \\nAll Other Types of Sites – Breakfast – 3 dollars and 93.50 cents (14 cent increase), Lunch \\nor Supper – 6 dollars and 91.25 cent (24 cent increase), Snack – 1 dollar and 62.25 cents \\n(5.5 cent increase).\\n2025 Reimbursement Rates (Combined) \\nPer Meal Rates in \\nwhole or fractions of \\nU.S. dollarsAll \\nStates \\nexcept \\nAlaska \\nand \\nHawaiiAll \\nStates \\nexcept \\nAlaska \\nand \\nHawaiiAlaska AlaskaGuam, \\nHawaii, \\nPuerto \\nRico, \\nand U.S. \\nVirgin \\nIslandsGuam, \\nHawaii, \\nPuerto \\nRico, \\nand U.S. \\nVirgin \\nIslands\\nSite TypesRural \\nor Self-\\nprep \\nSitesAll \\nOther \\nTypes \\nof SitesRural \\nor Self-\\nprep \\nSitesAll \\nOther \\nTypes \\nof SitesRural or \\nSelf-\\nprep \\nSitesAll \\nOther \\nTypes \\nof Sites\\nBreakfast 3.0875 3.0300 5.0000 4.9075 4.0125 3.9350\\nLunch or Supper 5.4025 5.3150 8.7600 8.6175 7.0250 6.9125\\nSnack 1.2800 1.2500 2.0750 2.0275 1.6600 1.6225\\nOperating Rates\\nThe portion of the SFSP rates for operating costs is based on payment amounts set in \\nsection 13(b)(1) of the NSLA, 42 U.S.C. 1761(b)(1). They are rounded down to the \\nnearest whole cent, as required by section 11(a)(3)(B)(iii) of the NSLA, 42 U.S.C. \\n1759a(a)(3)(B)(iii).\\nThese changes are reflected below.\\nAll States except Alaska and Hawaii – Breakfast – 2 dollars and 81 cents (10 cents \\nincrease from the 2024 reimbursement rate), Lunch or Supper – 4 dollars and 89 cents \\n(17 cents increase), Snack – 1 dollar and 14 cents (4 cents increase). \\nAlaska – Breakfast – 4 dollars and 55 cents (16 cents increase), Lunch or Supper – 7 \\ndollars and 93 cents (28 cents increase), Snack – 1 dollar and 85 cents (7 cents increase). \\nGuam, Hawaii, Puerto Rico, and the U.S. Virgin Islands – Breakfast – 3 dollars and 65 \\ncents (13 cents increase), Lunch or Supper – 6 dollars and 36 cents (22 cents increase), \\nSnack – 1 dollar and 48 cents (5 cents increase). \\nOperating Component of 2025 Reimbursement Rates \\nOperating Rates in U.S. \\ndollars, rounded down to the \\nnearest whole centAll States except \\nAlaska and HawaiiAlaskaGuam, Hawaii, Puerto \\nRico, and U.S. Virgin \\nIslands\\nBreakfast 2.81 4.55 3.65\\nLunch or Supper 4.89 7.93 6.36\\nSnack 1.14 1.85 1.48\\nAdministrative Rates\\nThe administrative cost component of the reimbursement is authorized under section \\n13(b)(3) of the NSLA, 42 U.S.C. 1761(b)(3). Rates are higher for sponsors of sites \\nlocated in rural areas and for “self-prep” sponsors that prepare their own meals at the \\nSFSP site or at a central facility instead of purchasing them from vendors. The \\nadministrative portion of SFSP rates are adjusted, either up or down, to the nearest \\nquarter-cent.\\nThese changes are reflected below.\\nAll States except Alaska and Hawaii – Rural or Self-prep Sites – Breakfast – 27.75 cents \\n(1 cent increase from the 2024 reimbursement rate), Lunch or Supper – 51.25 cents (2 \\ncent increase), Snack – 14 cents (0.50 cent increase); All Other Types of Sites – \\nBreakfast – 22 cents (0.75 cent increase), Lunch or Supper – 42.50 cents (1.5 cent \\nincrease), Snack 11 cents (0.50 cent increase). \\nAlaska – Rural or Self-prep Sites – Breakfast – 45 cents (1.5 cent increase), Lunch or \\nSupper – 83 cents (3 cent increase), Snack – 22.50 cents (0.75 cent increase); All Other \\nTypes of Sites – Breakfast – 35.75 cents (1.25 cent increase), Lunch or Supper – 68.75 \\ncents (2.50 cent increase), Snack – 17.75 cents (0.5 cent increase). \\nGuam, Hawaii, Puerto Rico, and the U.S. Virgin Islands – Rural or Self-prep Sites – \\nBreakfast – 36.25 cents (1.25 cent increase), Lunch or Supper – 66.50 cents (2.25 cent \\nincrease), Snack – 18 cents (0.50 cent increase); All Other Types of Sites – Breakfast – \\n28.50 cents (1 cent increase), Lunch or Supper – 55.25 cents (2 cent increase), Snack – \\n14.25 cents (0.5 cent increase). \\nAdministrative Component of 2025 Reimbursement Rates \\nAdministrative Rates in U.S. \\ndollars, adjusted, up or down, to \\nthe nearest quarter-centAll \\nStates \\nexcept \\nAlaska \\nand \\nHawaiiAll \\nStates \\nexcept \\nAlaska \\nand \\nHawaiiAlaska AlaskaGuam, \\nHawaii, \\nPuerto \\nRico, \\nand \\nU.S. \\nVirgin \\nIslandsGuam, \\nHawaii, \\nPuerto \\nRico, \\nand U.S.  \\nVirgin \\nIslands\\nSite TypesRural \\nor Self-\\nprep \\nSitesAll \\nOther \\nTypes \\nof SitesRural \\nor Self-\\nprep \\nSitesAll \\nOther \\nTypes \\nof SitesRural \\nor Self-\\nprep \\nSitesAll \\nOther \\nTypes \\nof Sites\\nBreakfast 0.2775 0.2200 0.4500 0.3575 0.3625 0.2850\\nLunch or Supper 0.5125 0.4250 0.8300 0.6875 0.6650 0.5525\\nSnack 0.1400 0.1100 0.2250 0.1775 0.1800 0.1425\\nAuthority:  Sections 9, 13, and 14, Richard B. Russell National School Lunch Act, 42 \\nU.S.C. 1758, 1761, and 1762a, respectively.\\nTameka Owens,\\nActing Administrator and Assistant Administrator,\\nFood and Nutrition Service.\\n[FR Doc. 2025-00479 Filed: 1/10/2025 8:45 am; Publication Date:  1/13/2025]\\n'"
      ]
     },
     "execution_count": 5,
     "metadata": {},
     "output_type": "execute_result"
    }
   ],
   "source": [
    "pdf_link = 'https://public-inspection.federalregister.gov/2025-00479.pdf?1736516733'\n",
    "read_pdf_data(pdf_link)"
   ]
  },
  {
   "cell_type": "code",
   "execution_count": null,
   "metadata": {},
   "outputs": [],
   "source": []
  }
 ],
 "metadata": {
  "kernelspec": {
   "display_name": "venv",
   "language": "python",
   "name": "python3"
  },
  "language_info": {
   "codemirror_mode": {
    "name": "ipython",
    "version": 3
   },
   "file_extension": ".py",
   "mimetype": "text/x-python",
   "name": "python",
   "nbconvert_exporter": "python",
   "pygments_lexer": "ipython3",
   "version": "3.10.0"
  }
 },
 "nbformat": 4,
 "nbformat_minor": 2
}
