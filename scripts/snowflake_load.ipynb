{
 "cells": [
  {
   "cell_type": "code",
   "execution_count": null,
   "metadata": {},
   "outputs": [],
   "source": [
    "import snowflake.connector\n",
    "import configparser\n",
    "\n",
    "config = configparser.ConfigParser()\n",
    "config.read('configuration.properties')\n",
    "\n",
    "def snowflake_connection():\n",
    "    try:\n",
    "        user = config['SNOWFLAKE']['user']\n",
    "        password = config['SNOWFLAKE']['password']\n",
    "        account = config['SNOWFLAKE']['account']\n",
    "        role = config['SNOWFLAKE']['role']\n",
    "        warehouse = config['SNOWFLAKE']['warehouse']\n",
    "        database = config['SNOWFLAKE']['database']\n",
    "        schema = config['SNOWFLAKE']['schema']\n",
    "        table = config['SNOWFLAKE']['table']\n",
    "        stage = config['SNOWFLAKE']['stage']\n",
    "        file_format = config['SNOWFLAKE']['file_format']\n",
    "\n",
    "        conn = snowflake.connector.connect(\n",
    "            user=user,\n",
    "            password=password,\n",
    "            account=account,\n",
    "            warehouse=warehouse,\n",
    "            database=database,\n",
    "            schema=schema,\n",
    "            role=role\n",
    "        )\n",
    "\n",
    "        return conn, table, stage, file_format\n",
    "    except Exception as e:\n",
    "        print(\"Exception in snowflake_connection function: \",e)\n",
    "        return  \"\", \"\""
   ]
  },
  {
   "cell_type": "code",
   "execution_count": 6,
   "metadata": {},
   "outputs": [],
   "source": [
    "conn, table, stage, file_format = snowflake_connection()\n",
    "csv_name = 'notice_rule_2025_02_25.csv'"
   ]
  },
  {
   "cell_type": "code",
   "execution_count": 14,
   "metadata": {},
   "outputs": [],
   "source": [
    "def stage_csv(csv_name):\n",
    "    try:\n",
    "        cursor = conn.cursor()\n",
    "        put_query = f\"PUT file://{csv_name} @{stage} AUTO_COMPRESS=TRUE OVERWRITE=TRUE\"\n",
    "        cursor.execute(put_query)\n",
    "        print(f\"Staging data...\")\n",
    "        print(f\"{csv_name} staged successfully\")\n",
    "        cursor.close()\n",
    "    except Exception as e:\n",
    "        print(\"Exception in stage_csv function: \",e)"
   ]
  },
  {
   "cell_type": "code",
   "execution_count": 12,
   "metadata": {},
   "outputs": [],
   "source": [
    "def load_to_snowflake(csv_name):\n",
    "    try:\n",
    "        conn, table, stage, file_format = snowflake_connection()\n",
    "        cur = conn.cursor()\n",
    "\n",
    "        # Query to update the record if job with same job_id is present. Insert only when job_id is not present\n",
    "        merge_query = f'''MERGE INTO {table} t\n",
    "                            USING (SELECT   $1 ID, \n",
    "                                            $2 AGENCY, \n",
    "                                            $3 ACTION_TYPE, \n",
    "                                            $4 SUMMARY, \n",
    "                                            $5 IMPORTANT_DATES, \n",
    "                                            $6 PUBLIC_INSPECTION_PDF_URL, \n",
    "                                            $7 LAST_UPDATED_DATE, \n",
    "                                            $8 PUBLICATION_DATE from @{stage}/{csv_name} (FILE_FORMAT => {file_format})) s\n",
    "                            ON t.ID = s.ID \n",
    "                            WHEN MATCHED THEN\n",
    "                                UPDATE SET  t.ID = s.ID,\n",
    "                                            t.AGENCY = s.AGENCY,\n",
    "                                            t.ACTION_TYPE = s.ACTION_TYPE,\n",
    "                                            t.SUMMARY = s.SUMMARY,\n",
    "                                            t.IMPORTANT_DATES = s.IMPORTANT_DATES,\n",
    "                                            t.PUBLIC_INSPECTION_PDF_URL = s.PUBLIC_INSPECTION_PDF_URL,\n",
    "                                            t.LAST_UPDATED_DATE = s.LAST_UPDATED_DATE,\n",
    "                                            t.PUBLICATION_DATE = s.PUBLICATION_DATE\n",
    "                            WHEN NOT MATCHED THEN\n",
    "                            INSERT (ID, AGENCY, ACTION_TYPE, SUMMARY, IMPORTANT_DATES, PUBLIC_INSPECTION_PDF_URL, LAST_UPDATED_DATE, PUBLICATION_DATE, DI_LOAD_DT)\n",
    "                            VALUES (s.ID, s.AGENCY, s.ACTION_TYPE, s.SUMMARY, s.IMPORTANT_DATES, s.PUBLIC_INSPECTION_PDF_URL, s.LAST_UPDATED_DATE, s.PUBLICATION_DATE, CURRENT_TIMESTAMP);\n",
    "                            '''\n",
    "\n",
    "        print(\"merging data...\")\n",
    "\n",
    "        # executing load\n",
    "        cur.execute(merge_query)\n",
    "\n",
    "        print(\"Data merged successfully\")\n",
    "\n",
    "        # Close the cursor and connection\n",
    "        cur.close()\n",
    "        conn.close()\n",
    "\n",
    "    except Exception as e:\n",
    "        print(\"Exception in load_to_snowflake function: \", e)\n"
   ]
  },
  {
   "cell_type": "code",
   "execution_count": 15,
   "metadata": {},
   "outputs": [
    {
     "name": "stdout",
     "output_type": "stream",
     "text": [
      "Staging data...\n",
      "notice_rule_2025_02_25.csv staged successfully\n",
      "merging data...\n",
      "Data merged successfully\n"
     ]
    }
   ],
   "source": [
    "stage_csv(csv_name)\n",
    "load_to_snowflake(csv_name)"
   ]
  }
 ],
 "metadata": {
  "kernelspec": {
   "display_name": "venv",
   "language": "python",
   "name": "python3"
  },
  "language_info": {
   "codemirror_mode": {
    "name": "ipython",
    "version": 3
   },
   "file_extension": ".py",
   "mimetype": "text/x-python",
   "name": "python",
   "nbconvert_exporter": "python",
   "pygments_lexer": "ipython3",
   "version": "3.10.0"
  }
 },
 "nbformat": 4,
 "nbformat_minor": 2
}
